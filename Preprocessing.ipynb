{
  "nbformat": 4,
  "nbformat_minor": 0,
  "metadata": {
    "colab": {
      "provenance": [],
      "collapsed_sections": []
    },
    "kernelspec": {
      "name": "python3",
      "display_name": "Python 3"
    },
    "language_info": {
      "name": "python"
    },
    "accelerator": "GPU"
  },
  "cells": [
    {
      "cell_type": "markdown",
      "source": [
        "### **PREPROCESSING STEPS**\n"
      ],
      "metadata": {
        "id": "1c5oxlY2G6Lb"
      }
    },
    {
      "cell_type": "markdown",
      "source": [
        "**Drive Connection**\n",
        "\n"
      ],
      "metadata": {
        "id": "3Dg6GGwmHMxi"
      }
    },
    {
      "cell_type": "code",
      "execution_count": 3,
      "metadata": {
        "colab": {
          "base_uri": "https://localhost:8080/"
        },
        "id": "r4CQRrSgoc19",
        "outputId": "342fff8c-2bc2-46d0-ae7b-63f40f80c3f9"
      },
      "outputs": [
        {
          "output_type": "stream",
          "name": "stdout",
          "text": [
            "Drive already mounted at /content/drive/; to attempt to forcibly remount, call drive.mount(\"/content/drive/\", force_remount=True).\n"
          ]
        }
      ],
      "source": [
        "# mount Google Drive\n",
        "from google.colab import drive\n",
        "drive.mount('/content/drive/')"
      ]
    },
    {
      "cell_type": "code",
      "source": [
        "# to show current working directory\n",
        "!pwd \n",
        "!ls\n",
        "%cd drive/MyDrive/Project\n",
        "!ls"
      ],
      "metadata": {
        "colab": {
          "base_uri": "https://localhost:8080/"
        },
        "id": "rP750S45ooZi",
        "outputId": "6dc855cc-51d1-4c47-d533-3bdba729013a"
      },
      "execution_count": 4,
      "outputs": [
        {
          "output_type": "stream",
          "name": "stdout",
          "text": [
            "/content\n",
            "drive  sample_data\n",
            "/content/drive/MyDrive/Project\n",
            " Model.ipynb\t\t spectrograms   X_train.npy   y_test.npy    y_val.npy\n",
            "'Preprocessing.ipynb '\t X_test.npy     X_val.npy     y_train.npy\n"
          ]
        }
      ]
    },
    {
      "cell_type": "markdown",
      "source": [
        "**Importing Required Libraries**\n",
        "\n"
      ],
      "metadata": {
        "id": "xANNW7i4HZ4Z"
      }
    },
    {
      "cell_type": "code",
      "source": [
        "# importing libraries \n",
        "import cv2\n",
        "import os\n",
        "import numpy as np\n",
        "import pandas as pd\n",
        "import matplotlib.pyplot as plt\n",
        "%matplotlib inline\n",
        "import tensorflow as tf"
      ],
      "metadata": {
        "id": "Ba8d_CBPoyyG"
      },
      "execution_count": 5,
      "outputs": []
    },
    {
      "cell_type": "markdown",
      "source": [
        "**Path of Spectrograms**\n",
        "\n"
      ],
      "metadata": {
        "id": "RoaMrrTEHgOG"
      }
    },
    {
      "cell_type": "code",
      "source": [
        "# to set path containing pics\n",
        "path = '/content/drive/MyDrive/Project/spectrograms'"
      ],
      "metadata": {
        "id": "0bQwrdRBo2jw"
      },
      "execution_count": 5,
      "outputs": []
    },
    {
      "cell_type": "markdown",
      "source": [
        "**GrayScale - Resize - Normalization**"
      ],
      "metadata": {
        "id": "N7sq2a8SHkyX"
      }
    },
    {
      "cell_type": "code",
      "source": [
        "%%time\n",
        "\n",
        "X_data = []\n",
        "y_data = []\n",
        "\n",
        "for subdir, dirs, files in os.walk(path):\n",
        "    for file in files:\n",
        "        pic = cv2.imread(os.path.join(subdir, file))\n",
        "        pic = cv2.cvtColor(pic, cv2.COLOR_BGR2GRAY)\n",
        "        pic = cv2.resize(pic, (32, 32))\n",
        "        \n",
        "        X_data.append(pic)\n",
        "        y_data.append(int(subdir[-1]))\n",
        "        # print(os.path.join(subdir, file))\n",
        "        # print(int(subdir[-1]))\n",
        "\n",
        "X = np.array(X_data) / 255\n",
        "y = np.array(y_data).reshape(-1, 1)\n",
        "\n",
        "#converting the list to numpy array and saving it to a file using #numpy.save\n",
        "#np.save(os.path.join(path,'X_array'), X)\n",
        "#np.save(os.path.join(path,'y_array'), y)\n",
        "\n",
        "print(X.shape)\n",
        "print(y.shape)"
      ],
      "metadata": {
        "colab": {
          "base_uri": "https://localhost:8080/"
        },
        "id": "M5hEhOVHqmc5",
        "outputId": "fbac5a41-51a5-4af3-be8f-adf8125f72a9"
      },
      "execution_count": 6,
      "outputs": [
        {
          "output_type": "stream",
          "name": "stdout",
          "text": [
            "(8732, 32, 32)\n",
            "(8732, 1)\n",
            "CPU times: user 39.8 s, sys: 5.52 s, total: 45.3 s\n",
            "Wall time: 3min 32s\n"
          ]
        }
      ]
    },
    {
      "cell_type": "markdown",
      "source": [
        "**Variables Control**\n",
        "\n"
      ],
      "metadata": {
        "id": "lExeVF2sIApb"
      }
    },
    {
      "cell_type": "code",
      "source": [
        "print(X[0:2])\n",
        "print(y[0:2])"
      ],
      "metadata": {
        "colab": {
          "base_uri": "https://localhost:8080/"
        },
        "id": "RqnGrQbar1MC",
        "outputId": "47e76787-aca1-4d74-d4c6-3912d23312ee"
      },
      "execution_count": 7,
      "outputs": [
        {
          "output_type": "stream",
          "name": "stdout",
          "text": [
            "[[[0.         0.         0.         ... 0.         0.         0.        ]\n",
            "  [0.         0.         0.         ... 0.         0.         0.        ]\n",
            "  [0.         0.         0.         ... 0.         0.         0.        ]\n",
            "  ...\n",
            "  [0.55686275 0.43921569 0.31372549 ... 0.41568627 0.43921569 0.56078431]\n",
            "  [0.67058824 0.62745098 0.61960784 ... 0.33333333 0.25098039 0.54117647]\n",
            "  [0.31372549 0.14509804 0.20392157 ... 0.21960784 0.22745098 0.25098039]]\n",
            "\n",
            " [[0.         0.         0.         ... 0.         0.         0.        ]\n",
            "  [0.         0.         0.         ... 0.         0.         0.        ]\n",
            "  [0.         0.         0.         ... 0.         0.         0.        ]\n",
            "  ...\n",
            "  [0.70980392 0.41960784 0.5254902  ... 0.43921569 0.47058824 0.61960784]\n",
            "  [0.38823529 0.44705882 0.47843137 ... 0.29803922 0.29803922 0.43529412]\n",
            "  [0.17254902 0.21960784 0.10980392 ... 0.07058824 0.15686275 0.1254902 ]]]\n",
            "[[9]\n",
            " [9]]\n"
          ]
        }
      ]
    },
    {
      "cell_type": "markdown",
      "source": [
        "**Picture Control**"
      ],
      "metadata": {
        "id": "wrhsGgyzIGt9"
      }
    },
    {
      "cell_type": "code",
      "source": [
        "plt.imshow(X[100])\n",
        "plt.show()\n",
        "\n",
        "print(X[100].shape)"
      ],
      "metadata": {
        "colab": {
          "base_uri": "https://localhost:8080/",
          "height": 283
        },
        "id": "2Gh5Z881r64A",
        "outputId": "9d280ea8-616a-4a42-aee1-72732334af5a"
      },
      "execution_count": 8,
      "outputs": [
        {
          "output_type": "display_data",
          "data": {
            "text/plain": [
              "<Figure size 432x288 with 1 Axes>"
            ],
            "image/png": "[encoded data removed]"
          },
          "metadata": {
            "needs_background": "light"
          }
        },
        {
          "output_type": "stream",
          "name": "stdout",
          "text": [
            "(32, 32)\n"
          ]
        }
      ]
    },
    {
      "cell_type": "markdown",
      "source": [
        "**Train-Test-Validation Datasets**"
      ],
      "metadata": {
        "id": "IudSkcbHIOlw"
      }
    },
    {
      "cell_type": "code",
      "source": [
        "from sklearn.model_selection import train_test_split\n",
        "\n",
        "X_train, X_temp, y_train, y_temp = train_test_split(X, y, test_size=0.30)\n",
        "X_val, X_test, y_val, y_test = train_test_split(X_temp, y_temp, test_size=0.50)\n",
        "\n",
        "print(f\"X_train: {len(X_train)}\")\n",
        "print(f\"y_train: {len(y_train)}\")\n",
        "\n",
        "print(f\"X_val: {len(X_val)}\")\n",
        "print(f\"y_val: {len(y_val)}\")\n",
        "\n",
        "print(f\"X_test: {len(X_test)}\")\n",
        "print(f\"y_test: {len(y_test)}\")"
      ],
      "metadata": {
        "colab": {
          "base_uri": "https://localhost:8080/"
        },
        "id": "b5OK6_P5sBB9",
        "outputId": "97da4357-847e-4f5c-a289-218eadf225e5"
      },
      "execution_count": 9,
      "outputs": [
        {
          "output_type": "stream",
          "name": "stdout",
          "text": [
            "X_train: 6112\n",
            "y_train: 6112\n",
            "X_val: 1310\n",
            "y_val: 1310\n",
            "X_test: 1310\n",
            "y_test: 1310\n"
          ]
        }
      ]
    },
    {
      "cell_type": "markdown",
      "source": [
        "**Saving Train-Test-Validation Datasets**"
      ],
      "metadata": {
        "id": "BGUojDtGIXMM"
      }
    },
    {
      "cell_type": "code",
      "source": [
        "pathnew= '/content/drive/MyDrive/Project'\n",
        "\n",
        "np.save(os.path.join(pathnew,'X_train'), X_train)\n",
        "np.save(os.path.join(pathnew,'y_train'), y_train)\n",
        "\n",
        "np.save(os.path.join(pathnew,'X_val'), X_val)\n",
        "np.save(os.path.join(pathnew,'y_val'), y_val)\n",
        "\n",
        "np.save(os.path.join(pathnew,'X_test'), X_test)\n",
        "np.save(os.path.join(pathnew,'y_test'), y_test)"
      ],
      "metadata": {
        "id": "LBQNDvvJphBm"
      },
      "execution_count": 10,
      "outputs": []
    }
  ]
}