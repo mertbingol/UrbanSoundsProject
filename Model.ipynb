{
  "nbformat": 4,
  "nbformat_minor": 0,
  "metadata": {
    "colab": {
      "provenance": []
    },
    "kernelspec": {
      "name": "python3",
      "display_name": "Python 3"
    },
    "language_info": {
      "name": "python"
    }
  },
  "cells": [
    {
      "cell_type": "markdown",
      "source": [
        "### **CNN MODELLING**"
      ],
      "metadata": {
        "id": "355uaNmlNZFO"
      }
    },
    {
      "cell_type": "markdown",
      "source": [
        "**Drive Connection**\n"
      ],
      "metadata": {
        "id": "kwhtRB75Nb5t"
      }
    },
    {
      "cell_type": "code",
      "execution_count": 17,
      "metadata": {
        "colab": {
          "base_uri": "https://localhost:8080/"
        },
        "id": "kcu2OUwtNRPb",
        "outputId": "d9e416a7-1bcc-4fad-854c-64798faf86dd"
      },
      "outputs": [
        {
          "output_type": "stream",
          "name": "stdout",
          "text": [
            "Drive already mounted at /content/drive/; to attempt to forcibly remount, call drive.mount(\"/content/drive/\", force_remount=True).\n"
          ]
        }
      ],
      "source": [
        "# mount Google Drive\n",
        "from google.colab import drive\n",
        "drive.mount('/content/drive/')"
      ]
    },
    {
      "cell_type": "markdown",
      "source": [
        "**Importing Required Libraries**\n",
        "\n"
      ],
      "metadata": {
        "id": "caP1vephNkmt"
      }
    },
    {
      "cell_type": "code",
      "source": [
        "# importing libraries \n",
        "import cv2\n",
        "import os\n",
        "import numpy as np\n",
        "import pandas as pd\n",
        "import matplotlib.pyplot as plt\n",
        "%matplotlib inline\n",
        "import tensorflow as tf"
      ],
      "metadata": {
        "id": "ZqTdyJuONfUU"
      },
      "execution_count": 5,
      "outputs": []
    },
    {
      "cell_type": "markdown",
      "source": [
        "**Loading Train-Validation-Test Datasets**\n",
        "\n"
      ],
      "metadata": {
        "id": "vxeIiHnwNojc"
      }
    },
    {
      "cell_type": "code",
      "source": [
        "X_train = np.load('/content/drive/MyDrive/Project/X_train.npy')\n",
        "y_train = np.load('/content/drive/MyDrive/Project/y_train.npy')\n",
        "X_val = np.load('/content/drive/MyDrive/Project/X_val.npy')\n",
        "y_val = np.load('/content/drive/MyDrive/Project/y_val.npy')\n",
        "X_test = np.load('/content/drive/MyDrive/Project/X_test.npy')\n",
        "y_test = np.load('/content/drive/MyDrive/Project/y_test.npy')"
      ],
      "metadata": {
        "id": "JLbX0mJcNrGN"
      },
      "execution_count": 6,
      "outputs": []
    },
    {
      "cell_type": "markdown",
      "source": [
        "**Creating a Model Object**\n",
        "\n"
      ],
      "metadata": {
        "id": "EsXTSmrdNu95"
      }
    },
    {
      "cell_type": "code",
      "source": [
        "model = tf.keras.Sequential()\n"
      ],
      "metadata": {
        "id": "I6y2BCv6Nw_X"
      },
      "execution_count": 7,
      "outputs": []
    },
    {
      "cell_type": "markdown",
      "source": [
        "**Adding Convolution and Max Pooling Layers**\n",
        "\n"
      ],
      "metadata": {
        "id": "yBE6oRxhN0IB"
      }
    },
    {
      "cell_type": "code",
      "source": [
        "# Add a convolution and max pooling layer\n",
        "model.add(tf.keras.layers.Conv2D(32,\n",
        "                                 kernel_size=(3,3),\n",
        "                                 strides=(1,1),\n",
        "                                 padding=\"same\",\n",
        "                                 activation=\"relu\",\n",
        "                                 input_shape=(32, 32, 1)))\n",
        "\n",
        "model.add(tf.keras.layers.MaxPooling2D((2,2)))\n",
        "\n",
        "# Add more convolution and max pooling layers\n",
        "# Add a convolution and max pooling layer\n",
        "model.add(tf.keras.layers.Conv2D(64,\n",
        "                                 kernel_size=(3,3),\n",
        "                                 strides=(1,1),\n",
        "                                 padding=\"same\",\n",
        "                                 activation=\"relu\"))\n",
        "\n",
        "model.add(tf.keras.layers.MaxPooling2D((2,2)))\n",
        "\n",
        "model.add(tf.keras.layers.Conv2D(64,\n",
        "                                 kernel_size=(3,3),\n",
        "                                 strides=(1,1),\n",
        "                                 padding=\"same\",\n",
        "                                 activation=\"relu\"))\n",
        "\n",
        "# Flatten the convolution layer\n",
        "model.add(tf.keras.layers.Flatten())\n",
        "\n",
        "# Add the dense layer and dropout layer\n",
        "model.add(tf.keras.layers.Dense(64, activation=\"relu\"))\n",
        "model.add(tf.keras.layers.Dropout(0.5))\n",
        "\n",
        "# Add the dense layer and dropout layer\n",
        "model.add(tf.keras.layers.Dense(64, activation=\"relu\"))\n",
        "model.add(tf.keras.layers.Dropout(0.5))\n",
        "\n",
        "# Add the output layer\n",
        "model.add(tf.keras.layers.Dense(10, activation=\"softmax\"))"
      ],
      "metadata": {
        "id": "vQ6X250NN3Ka"
      },
      "execution_count": 8,
      "outputs": []
    },
    {
      "cell_type": "markdown",
      "source": [
        "**Model Compiling**\n",
        "\n"
      ],
      "metadata": {
        "id": "b5dR8oWGN8-2"
      }
    },
    {
      "cell_type": "code",
      "source": [
        "# Compile the model\n",
        "model.compile(optimizer=\"adam\",\n",
        "              loss=\"sparse_categorical_crossentropy\",\n",
        "              metrics=[\"accuracy\"])"
      ],
      "metadata": {
        "id": "T04IU8rOOBWf"
      },
      "execution_count": 9,
      "outputs": []
    },
    {
      "cell_type": "markdown",
      "source": [
        "**Training the Model**\n",
        "\n"
      ],
      "metadata": {
        "id": "CV2j-NXkODbU"
      }
    },
    {
      "cell_type": "code",
      "source": [
        "# Train the model for 50 epochs with batch size of 128\n",
        "results = model.fit(X_train, y_train,\n",
        "                    batch_size=128,\n",
        "                    epochs=50,\n",
        "                    validation_data=(X_val, y_val))"
      ],
      "metadata": {
        "colab": {
          "base_uri": "https://localhost:8080/"
        },
        "id": "wcwphfujOFjC",
        "outputId": "9e77e585-fada-412e-af7f-aae8d97404b0"
      },
      "execution_count": 10,
      "outputs": [
        {
          "output_type": "stream",
          "name": "stdout",
          "text": [
            "Epoch 1/50\n",
            "48/48 [==============================] - 12s 226ms/step - loss: 2.1515 - accuracy: 0.1893 - val_loss: 1.8468 - val_accuracy: 0.3519\n",
            "Epoch 2/50\n",
            "48/48 [==============================] - 13s 264ms/step - loss: 1.8587 - accuracy: 0.3220 - val_loss: 1.5476 - val_accuracy: 0.4710\n",
            "Epoch 3/50\n",
            "48/48 [==============================] - 12s 247ms/step - loss: 1.6794 - accuracy: 0.4031 - val_loss: 1.3614 - val_accuracy: 0.5443\n",
            "Epoch 4/50\n",
            "48/48 [==============================] - 11s 222ms/step - loss: 1.5246 - accuracy: 0.4656 - val_loss: 1.2411 - val_accuracy: 0.6244\n",
            "Epoch 5/50\n",
            "48/48 [==============================] - 11s 222ms/step - loss: 1.4294 - accuracy: 0.4993 - val_loss: 1.1647 - val_accuracy: 0.6351\n",
            "Epoch 6/50\n",
            "48/48 [==============================] - 11s 224ms/step - loss: 1.3073 - accuracy: 0.5425 - val_loss: 1.0064 - val_accuracy: 0.6786\n",
            "Epoch 7/50\n",
            "48/48 [==============================] - 11s 227ms/step - loss: 1.2618 - accuracy: 0.5638 - val_loss: 0.9414 - val_accuracy: 0.7206\n",
            "Epoch 8/50\n",
            "48/48 [==============================] - 11s 221ms/step - loss: 1.1838 - accuracy: 0.5880 - val_loss: 0.8829 - val_accuracy: 0.7298\n",
            "Epoch 9/50\n",
            "48/48 [==============================] - 10s 219ms/step - loss: 1.1098 - accuracy: 0.6149 - val_loss: 0.8247 - val_accuracy: 0.7496\n",
            "Epoch 10/50\n",
            "48/48 [==============================] - 11s 223ms/step - loss: 1.0775 - accuracy: 0.6260 - val_loss: 0.8320 - val_accuracy: 0.7443\n",
            "Epoch 11/50\n",
            "48/48 [==============================] - 11s 226ms/step - loss: 1.0392 - accuracy: 0.6433 - val_loss: 0.8043 - val_accuracy: 0.7580\n",
            "Epoch 12/50\n",
            "48/48 [==============================] - 11s 220ms/step - loss: 0.9800 - accuracy: 0.6636 - val_loss: 0.7975 - val_accuracy: 0.7435\n",
            "Epoch 13/50\n",
            "48/48 [==============================] - 11s 220ms/step - loss: 0.9245 - accuracy: 0.6824 - val_loss: 0.6869 - val_accuracy: 0.7916\n",
            "Epoch 14/50\n",
            "48/48 [==============================] - 11s 221ms/step - loss: 0.8972 - accuracy: 0.6947 - val_loss: 0.7132 - val_accuracy: 0.7779\n",
            "Epoch 15/50\n",
            "48/48 [==============================] - 11s 221ms/step - loss: 0.8908 - accuracy: 0.7017 - val_loss: 0.7067 - val_accuracy: 0.7985\n",
            "Epoch 16/50\n",
            "48/48 [==============================] - 11s 219ms/step - loss: 0.8347 - accuracy: 0.7219 - val_loss: 0.6236 - val_accuracy: 0.8008\n",
            "Epoch 17/50\n",
            "48/48 [==============================] - 10s 217ms/step - loss: 0.7875 - accuracy: 0.7367 - val_loss: 0.6106 - val_accuracy: 0.8130\n",
            "Epoch 18/50\n",
            "48/48 [==============================] - 11s 222ms/step - loss: 0.7610 - accuracy: 0.7459 - val_loss: 0.5754 - val_accuracy: 0.8313\n",
            "Epoch 19/50\n",
            "48/48 [==============================] - 13s 262ms/step - loss: 0.7171 - accuracy: 0.7615 - val_loss: 0.5829 - val_accuracy: 0.8198\n",
            "Epoch 20/50\n",
            "48/48 [==============================] - 11s 220ms/step - loss: 0.7286 - accuracy: 0.7595 - val_loss: 0.5962 - val_accuracy: 0.8267\n",
            "Epoch 21/50\n",
            "48/48 [==============================] - 11s 222ms/step - loss: 0.6795 - accuracy: 0.7718 - val_loss: 0.5722 - val_accuracy: 0.8321\n",
            "Epoch 22/50\n",
            "48/48 [==============================] - 11s 224ms/step - loss: 0.6452 - accuracy: 0.7816 - val_loss: 0.5655 - val_accuracy: 0.8359\n",
            "Epoch 23/50\n",
            "48/48 [==============================] - 11s 219ms/step - loss: 0.6206 - accuracy: 0.7952 - val_loss: 0.5851 - val_accuracy: 0.8267\n",
            "Epoch 24/50\n",
            "48/48 [==============================] - 11s 219ms/step - loss: 0.5947 - accuracy: 0.8001 - val_loss: 0.5286 - val_accuracy: 0.8473\n",
            "Epoch 25/50\n",
            "48/48 [==============================] - 11s 220ms/step - loss: 0.6091 - accuracy: 0.7965 - val_loss: 0.5263 - val_accuracy: 0.8420\n",
            "Epoch 26/50\n",
            "48/48 [==============================] - 11s 225ms/step - loss: 0.5800 - accuracy: 0.8069 - val_loss: 0.5223 - val_accuracy: 0.8420\n",
            "Epoch 27/50\n",
            "48/48 [==============================] - 11s 226ms/step - loss: 0.5689 - accuracy: 0.8082 - val_loss: 0.5256 - val_accuracy: 0.8450\n",
            "Epoch 28/50\n",
            "48/48 [==============================] - 11s 223ms/step - loss: 0.5197 - accuracy: 0.8236 - val_loss: 0.5414 - val_accuracy: 0.8359\n",
            "Epoch 29/50\n",
            "48/48 [==============================] - 11s 223ms/step - loss: 0.5170 - accuracy: 0.8308 - val_loss: 0.5040 - val_accuracy: 0.8542\n",
            "Epoch 30/50\n",
            "48/48 [==============================] - 11s 222ms/step - loss: 0.5320 - accuracy: 0.8171 - val_loss: 0.4979 - val_accuracy: 0.8565\n",
            "Epoch 31/50\n",
            "48/48 [==============================] - 11s 223ms/step - loss: 0.4742 - accuracy: 0.8351 - val_loss: 0.5231 - val_accuracy: 0.8473\n",
            "Epoch 32/50\n",
            "48/48 [==============================] - 11s 225ms/step - loss: 0.5041 - accuracy: 0.8243 - val_loss: 0.5558 - val_accuracy: 0.8519\n",
            "Epoch 33/50\n",
            "48/48 [==============================] - 11s 225ms/step - loss: 0.4741 - accuracy: 0.8377 - val_loss: 0.4958 - val_accuracy: 0.8557\n",
            "Epoch 34/50\n",
            "48/48 [==============================] - 11s 224ms/step - loss: 0.4505 - accuracy: 0.8478 - val_loss: 0.5031 - val_accuracy: 0.8542\n",
            "Epoch 35/50\n",
            "48/48 [==============================] - 11s 222ms/step - loss: 0.4438 - accuracy: 0.8452 - val_loss: 0.5381 - val_accuracy: 0.8496\n",
            "Epoch 36/50\n",
            "48/48 [==============================] - 11s 234ms/step - loss: 0.4030 - accuracy: 0.8578 - val_loss: 0.5085 - val_accuracy: 0.8626\n",
            "Epoch 37/50\n",
            "48/48 [==============================] - 12s 249ms/step - loss: 0.4007 - accuracy: 0.8626 - val_loss: 0.5409 - val_accuracy: 0.8550\n",
            "Epoch 38/50\n",
            "48/48 [==============================] - 11s 223ms/step - loss: 0.4232 - accuracy: 0.8518 - val_loss: 0.5078 - val_accuracy: 0.8580\n",
            "Epoch 39/50\n",
            "48/48 [==============================] - 11s 225ms/step - loss: 0.4106 - accuracy: 0.8614 - val_loss: 0.4970 - val_accuracy: 0.8618\n",
            "Epoch 40/50\n",
            "48/48 [==============================] - 11s 225ms/step - loss: 0.3759 - accuracy: 0.8667 - val_loss: 0.5736 - val_accuracy: 0.8450\n",
            "Epoch 41/50\n",
            "48/48 [==============================] - 11s 225ms/step - loss: 0.3717 - accuracy: 0.8717 - val_loss: 0.5390 - val_accuracy: 0.8603\n",
            "Epoch 42/50\n",
            "48/48 [==============================] - 11s 225ms/step - loss: 0.3704 - accuracy: 0.8752 - val_loss: 0.5244 - val_accuracy: 0.8641\n",
            "Epoch 43/50\n",
            "48/48 [==============================] - 11s 225ms/step - loss: 0.3508 - accuracy: 0.8786 - val_loss: 0.5333 - val_accuracy: 0.8672\n",
            "Epoch 44/50\n",
            "48/48 [==============================] - 11s 225ms/step - loss: 0.3504 - accuracy: 0.8773 - val_loss: 0.5246 - val_accuracy: 0.8611\n",
            "Epoch 45/50\n",
            "48/48 [==============================] - 11s 224ms/step - loss: 0.3596 - accuracy: 0.8752 - val_loss: 0.5358 - val_accuracy: 0.8695\n",
            "Epoch 46/50\n",
            "48/48 [==============================] - 11s 225ms/step - loss: 0.3599 - accuracy: 0.8745 - val_loss: 0.5325 - val_accuracy: 0.8550\n",
            "Epoch 47/50\n",
            "48/48 [==============================] - 11s 223ms/step - loss: 0.3161 - accuracy: 0.8904 - val_loss: 0.5006 - val_accuracy: 0.8687\n",
            "Epoch 48/50\n",
            "48/48 [==============================] - 11s 222ms/step - loss: 0.3163 - accuracy: 0.8925 - val_loss: 0.4997 - val_accuracy: 0.8718\n",
            "Epoch 49/50\n",
            "48/48 [==============================] - 11s 222ms/step - loss: 0.3492 - accuracy: 0.8806 - val_loss: 0.5387 - val_accuracy: 0.8672\n",
            "Epoch 50/50\n",
            "48/48 [==============================] - 11s 225ms/step - loss: 0.3085 - accuracy: 0.8912 - val_loss: 0.5661 - val_accuracy: 0.8740\n"
          ]
        }
      ]
    },
    {
      "cell_type": "markdown",
      "source": [
        "***Visualizing the Result***\n",
        "\n",
        "\n",
        "\n"
      ],
      "metadata": {
        "id": "B0j6tpgcDjFj"
      }
    },
    {
      "cell_type": "markdown",
      "source": [
        "**Loss vs Epoch Graph**\n",
        "\n"
      ],
      "metadata": {
        "id": "yzweIjNtOJL0"
      }
    },
    {
      "cell_type": "code",
      "source": [
        "plt.figure(figsize=(10, 6))\n",
        "\n",
        "# Plot the the training loss\n",
        "plt.plot(results.history[\"loss\"], label=\"train_loss\")\n",
        "\n",
        "# Plot the the validation loss\n",
        "plt.plot(results.history[\"val_loss\"], label=\"val_loss\")\n",
        "\n",
        "\n",
        "# Name the x and y axises\n",
        "plt.ylabel(\"Loss\") \n",
        "plt.xlabel(\"Epoch#\")\n",
        "\n",
        "# Put legend table\n",
        "plt.legend()\n",
        "\n",
        "# Show the plot\n",
        "plt.show()"
      ],
      "metadata": {
        "colab": {
          "base_uri": "https://localhost:8080/",
          "height": 388
        },
        "id": "IMcB7dFTOM06",
        "outputId": "9828ca7a-3ba0-4073-f71d-8cd941094ef8"
      },
      "execution_count": 11,
      "outputs": [
        {
          "output_type": "display_data",
          "data": {
            "text/plain": [
              "<Figure size 720x432 with 1 Axes>"
            ],
            "image/png": "[encoded data removed]"
          },
          "metadata": {
            "needs_background": "light"
          }
        }
      ]
    },
    {
      "cell_type": "markdown",
      "source": [
        "**Accuracy vs Epoch Graph**\n",
        "\n"
      ],
      "metadata": {
        "id": "9TFgGWKDOPKJ"
      }
    },
    {
      "cell_type": "code",
      "source": [
        "plt.figure(figsize=(10, 6))\n",
        "\n",
        "# Plot the the training accuracy\n",
        "plt.plot(results.history[\"accuracy\"], label=\"train_accuracy\")\n",
        "\n",
        "\n",
        "# Plot the the validation accuracy\n",
        "plt.plot(results.history[\"val_accuracy\"], label=\"val_accuracy\")\n",
        "\n",
        "\n",
        "# Name the x and y axises\n",
        "plt.ylabel(\"Accuracy\") \n",
        "plt.xlabel(\"Epoch#\")\n",
        "\n",
        "# Put legend table\n",
        "plt.legend()\n",
        "\n",
        "# Show the plot\n",
        "plt.show()"
      ],
      "metadata": {
        "colab": {
          "base_uri": "https://localhost:8080/",
          "height": 388
        },
        "id": "e1T0wupUOSTa",
        "outputId": "3dab02e5-d690-437b-d0f4-382233a88656"
      },
      "execution_count": 12,
      "outputs": [
        {
          "output_type": "display_data",
          "data": {
            "text/plain": [
              "<Figure size 720x432 with 1 Axes>"
            ],
            "image/png": "[encoded data removed]"
          },
          "metadata": {
            "needs_background": "light"
          }
        }
      ]
    },
    {
      "cell_type": "markdown",
      "source": [
        "**Performance Evaluating**\n",
        "\n"
      ],
      "metadata": {
        "id": "SK7_XHszOV5I"
      }
    },
    {
      "cell_type": "code",
      "source": [
        "# Evaluate the performance\n",
        "model.evaluate(X_test, y_test)"
      ],
      "metadata": {
        "colab": {
          "base_uri": "https://localhost:8080/"
        },
        "id": "Fo_dHUZBOZJM",
        "outputId": "6cf79f0c-697b-4af9-c195-f303fd8ddbdc"
      },
      "execution_count": 13,
      "outputs": [
        {
          "output_type": "stream",
          "name": "stdout",
          "text": [
            "41/41 [==============================] - 1s 16ms/step - loss: 0.5854 - accuracy: 0.8481\n"
          ]
        },
        {
          "output_type": "execute_result",
          "data": {
            "text/plain": [
              "[0.5853878855705261, 0.8480916023254395]"
            ]
          },
          "metadata": {},
          "execution_count": 13
        }
      ]
    },
    {
      "cell_type": "markdown",
      "source": [
        "**Prediction for Reshaped Sample**\n",
        "\n"
      ],
      "metadata": {
        "id": "J8kHk0qRObdi"
      }
    },
    {
      "cell_type": "code",
      "source": [
        "# Make prediction on the reshaped sample\n",
        "prediction_result = model.predict(X_test[100].reshape(1, 32, 32, 1))\n",
        "\n",
        "# Print the prediction result\n",
        "prediction_result"
      ],
      "metadata": {
        "colab": {
          "base_uri": "https://localhost:8080/"
        },
        "id": "hE-I3AaUOeaZ",
        "outputId": "6f843e90-746c-4c23-84c6-fd315ecb461a"
      },
      "execution_count": 14,
      "outputs": [
        {
          "output_type": "execute_result",
          "data": {
            "text/plain": [
              "array([[9.4104953e-06, 5.2066349e-05, 1.5204842e-02, 2.8201265e-04,\n",
              "        2.9554528e-08, 1.6457083e-05, 5.0683763e-10, 2.5713147e-08,\n",
              "        5.0800927e-03, 9.7935504e-01]], dtype=float32)"
            ]
          },
          "metadata": {},
          "execution_count": 14
        }
      ]
    },
    {
      "cell_type": "markdown",
      "source": [
        "**Finding Predicted Class and Probabilty**\n",
        "\n"
      ],
      "metadata": {
        "id": "6uQDnXNOOgC7"
      }
    },
    {
      "cell_type": "code",
      "source": [
        "# Find the predicted class\n",
        "predicted_class = prediction_result.argmax()\n",
        "\n",
        "# Find the prediction probability\n",
        "predicted_probability = prediction_result.max()"
      ],
      "metadata": {
        "id": "YQAD_CJtOjCd"
      },
      "execution_count": 15,
      "outputs": []
    },
    {
      "cell_type": "code",
      "source": [
        "plt.imshow(X_test[100], cmap=\"gray\")\n",
        "plt.show()\n",
        "\n",
        "print(X_test[100].shape)\n",
        "\n",
        "# Print the results\n",
        "print(f\"This image belongs to class {predicted_class} with {predicted_probability} probability %\")\n",
        "print(f\"The actual class of the selected image is: {y_test[100]}\")"
      ],
      "metadata": {
        "colab": {
          "base_uri": "https://localhost:8080/",
          "height": 318
        },
        "id": "28EVNEl1Oj-p",
        "outputId": "5eae8cb6-9754-4161-a575-1468d091d77b"
      },
      "execution_count": 16,
      "outputs": [
        {
          "output_type": "display_data",
          "data": {
            "text/plain": [
              "<Figure size 432x288 with 1 Axes>"
            ],
            "image/png": "[encoded data removed]"
          },
          "metadata": {
            "needs_background": "light"
          }
        },
        {
          "output_type": "stream",
          "name": "stdout",
          "text": [
            "(32, 32)\n",
            "This image belongs to class 9 with 0.9793550372123718 probability %\n",
            "The actual class of the selected image is: [9]\n"
          ]
        }
      ]
    }
  ]
}