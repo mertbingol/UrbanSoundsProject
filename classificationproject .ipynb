{
  "nbformat": 4,
  "nbformat_minor": 0,
  "metadata": {
    "colab": {
      "provenance": [],
      "collapsed_sections": [],
      "toc_visible": true
    },
    "kernelspec": {
      "name": "python3",
      "display_name": "Python 3"
    },
    "language_info": {
      "name": "python"
    },
    "accelerator": "GPU"
  },
  "cells": [
    {
      "cell_type": "code",
      "execution_count": 1,
      "metadata": {
        "colab": {
          "base_uri": "https://localhost:8080/"
        },
        "id": "r4CQRrSgoc19",
        "outputId": "103d8636-a796-48d9-efd1-3ac31568b4f3"
      },
      "outputs": [
        {
          "output_type": "stream",
          "name": "stdout",
          "text": [
            "Mounted at /content/drive/\n"
          ]
        }
      ],
      "source": [
        "# mount Google Drive\n",
        "from google.colab import drive\n",
        "drive.mount('/content/drive/')"
      ]
    },
    {
      "cell_type": "code",
      "source": [
        "# to show current working directory\n",
        "!pwd \n",
        "!ls\n",
        "%cd drive/MyDrive/Project\n",
        "!ls"
      ],
      "metadata": {
        "colab": {
          "base_uri": "https://localhost:8080/"
        },
        "id": "rP750S45ooZi",
        "outputId": "1226d037-e276-4da4-e6f1-3dde57839fe9"
      },
      "execution_count": 2,
      "outputs": [
        {
          "output_type": "stream",
          "name": "stdout",
          "text": [
            "/content\n",
            "drive  sample_data\n",
            "/content/drive/MyDrive/Project\n",
            "GlobalAiHubProject.ipynb  spectrograms\n"
          ]
        }
      ]
    },
    {
      "cell_type": "code",
      "source": [
        "# importing libraries \n",
        "import cv2\n",
        "import os\n",
        "import numpy as np\n",
        "import pandas as pd\n",
        "import matplotlib.pyplot as plt\n",
        "%matplotlib inline\n",
        "import tensorflow as tf"
      ],
      "metadata": {
        "id": "Ba8d_CBPoyyG"
      },
      "execution_count": 3,
      "outputs": []
    },
    {
      "cell_type": "code",
      "source": [
        "# to set path containing pics\n",
        "path = '/content/drive/MyDrive/Project/spectrograms'"
      ],
      "metadata": {
        "id": "0bQwrdRBo2jw"
      },
      "execution_count": 4,
      "outputs": []
    },
    {
      "cell_type": "code",
      "source": [
        "%%time\n",
        "\n",
        "X_data = []\n",
        "y_data = []\n",
        "\n",
        "for subdir, dirs, files in os.walk(path):\n",
        "    for file in files:\n",
        "        pic = cv2.imread(os.path.join(subdir, file))\n",
        "        pic = cv2.cvtColor(pic, cv2.COLOR_BGR2GRAY)\n",
        "        pic = cv2.resize(pic, (32, 32))\n",
        "        \n",
        "        X_data.append(pic)\n",
        "        y_data.append(int(subdir[-1]))\n",
        "        # print(os.path.join(subdir, file))\n",
        "        # print(int(subdir[-1]))\n",
        "\n",
        "X = np.array(X_data) / 255\n",
        "y = np.array(y_data).reshape(-1, 1)\n",
        "\n",
        "#converting the list to numpy array and saving it to a file using #numpy.save\n",
        "#np.save(os.path.join(path,'X_array'), X)\n",
        "#np.save(os.path.join(path,'y_array'), y)\n",
        "\n",
        "print(X.shape)\n",
        "print(y.shape)"
      ],
      "metadata": {
        "colab": {
          "base_uri": "https://localhost:8080/"
        },
        "id": "M5hEhOVHqmc5",
        "outputId": "c184942f-d74b-46ac-fda0-14f71985c51e"
      },
      "execution_count": 5,
      "outputs": [
        {
          "output_type": "stream",
          "name": "stdout",
          "text": [
            "(8732, 32, 32)\n",
            "(8732, 1)\n",
            "CPU times: user 37.7 s, sys: 5.37 s, total: 43.1 s\n",
            "Wall time: 3min 5s\n"
          ]
        }
      ]
    },
    {
      "cell_type": "code",
      "source": [
        "print(X[0:2])\n",
        "print(y[0:2])"
      ],
      "metadata": {
        "colab": {
          "base_uri": "https://localhost:8080/"
        },
        "id": "RqnGrQbar1MC",
        "outputId": "23b90740-a188-4dd1-96e5-7cd710d4d25b"
      },
      "execution_count": 6,
      "outputs": [
        {
          "output_type": "stream",
          "name": "stdout",
          "text": [
            "[[[0.         0.         0.         ... 0.         0.         0.        ]\n",
            "  [0.         0.         0.         ... 0.         0.         0.        ]\n",
            "  [0.         0.         0.         ... 0.         0.         0.        ]\n",
            "  ...\n",
            "  [0.55686275 0.43921569 0.31372549 ... 0.41568627 0.43921569 0.56078431]\n",
            "  [0.67058824 0.62745098 0.61960784 ... 0.33333333 0.25098039 0.54117647]\n",
            "  [0.31372549 0.14509804 0.20392157 ... 0.21960784 0.22745098 0.25098039]]\n",
            "\n",
            " [[0.         0.         0.         ... 0.         0.         0.        ]\n",
            "  [0.         0.         0.         ... 0.         0.         0.        ]\n",
            "  [0.         0.         0.         ... 0.         0.         0.        ]\n",
            "  ...\n",
            "  [0.70980392 0.41960784 0.5254902  ... 0.43921569 0.47058824 0.61960784]\n",
            "  [0.38823529 0.44705882 0.47843137 ... 0.29803922 0.29803922 0.43529412]\n",
            "  [0.17254902 0.21960784 0.10980392 ... 0.07058824 0.15686275 0.1254902 ]]]\n",
            "[[9]\n",
            " [9]]\n"
          ]
        }
      ]
    },
    {
      "cell_type": "code",
      "source": [
        "plt.imshow(X[100])\n",
        "plt.show()\n",
        "\n",
        "print(X[100].shape)"
      ],
      "metadata": {
        "colab": {
          "base_uri": "https://localhost:8080/",
          "height": 283
        },
        "id": "2Gh5Z881r64A",
        "outputId": "6b4243d9-5436-45e2-dc46-5ffdd658f625"
      },
      "execution_count": 7,
      "outputs": [
        {
          "output_type": "display_data",
          "data": {
            "text/plain": [
              "<Figure size 432x288 with 1 Axes>"
            ],
            "image/png": "[encoded data removed]"
          },
          "metadata": {
            "needs_background": "light"
          }
        },
        {
          "output_type": "stream",
          "name": "stdout",
          "text": [
            "(32, 32)\n"
          ]
        }
      ]
    },
    {
      "cell_type": "code",
      "source": [
        "from sklearn.model_selection import train_test_split\n",
        "\n",
        "X_train, X_temp, y_train, y_temp = train_test_split(X, y, test_size=0.30)\n",
        "X_val, X_test, y_val, y_test = train_test_split(X_temp, y_temp, test_size=0.50)\n",
        "\n",
        "print(f\"X_train: {len(X_train)}\")\n",
        "print(f\"y_train: {len(y_train)}\")\n",
        "\n",
        "print(f\"X_val: {len(X_val)}\")\n",
        "print(f\"y_val: {len(y_val)}\")\n",
        "\n",
        "print(f\"X_test: {len(X_test)}\")\n",
        "print(f\"y_test: {len(y_test)}\")"
      ],
      "metadata": {
        "colab": {
          "base_uri": "https://localhost:8080/"
        },
        "id": "b5OK6_P5sBB9",
        "outputId": "473d3d68-8d01-43db-995b-fe638ee6819c"
      },
      "execution_count": 8,
      "outputs": [
        {
          "output_type": "stream",
          "name": "stdout",
          "text": [
            "X_train: 6112\n",
            "y_train: 6112\n",
            "X_val: 1310\n",
            "y_val: 1310\n",
            "X_test: 1310\n",
            "y_test: 1310\n"
          ]
        }
      ]
    },
    {
      "cell_type": "code",
      "source": [
        "# Create a model object\n",
        "model = tf.keras.Sequential()"
      ],
      "metadata": {
        "id": "3YN0qOc1sDn6"
      },
      "execution_count": 9,
      "outputs": []
    },
    {
      "cell_type": "code",
      "source": [
        "# Add a convolution and max pooling layer\n",
        "model.add(tf.keras.layers.Conv2D(32,\n",
        "                                 kernel_size=(3,3),\n",
        "                                 strides=(1,1),\n",
        "                                 padding=\"same\",\n",
        "                                 activation=\"relu\",\n",
        "                                 input_shape=(32, 32, 1)))\n",
        "\n",
        "model.add(tf.keras.layers.MaxPooling2D((2,2)))\n",
        "\n",
        "# Add more convolution and max pooling layers\n",
        "# Add a convolution and max pooling layer\n",
        "model.add(tf.keras.layers.Conv2D(64,\n",
        "                                 kernel_size=(3,3),\n",
        "                                 strides=(1,1),\n",
        "                                 padding=\"same\",\n",
        "                                 activation=\"relu\"))\n",
        "\n",
        "model.add(tf.keras.layers.MaxPooling2D((2,2)))\n",
        "\n",
        "model.add(tf.keras.layers.Conv2D(64,\n",
        "                                 kernel_size=(3,3),\n",
        "                                 strides=(1,1),\n",
        "                                 padding=\"same\",\n",
        "                                 activation=\"relu\"))\n",
        "\n",
        "# Flatten the convolution layer\n",
        "model.add(tf.keras.layers.Flatten())\n",
        "\n",
        "# Add the dense layer and dropout layer\n",
        "model.add(tf.keras.layers.Dense(64, activation=\"relu\"))\n",
        "model.add(tf.keras.layers.Dropout(0.5))\n",
        "\n",
        "# Add the dense layer and dropout layer\n",
        "model.add(tf.keras.layers.Dense(64, activation=\"relu\"))\n",
        "model.add(tf.keras.layers.Dropout(0.5))\n",
        "\n",
        "# Add the output layer\n",
        "model.add(tf.keras.layers.Dense(10, activation=\"softmax\"))"
      ],
      "metadata": {
        "id": "uC3g_gknsICO"
      },
      "execution_count": 10,
      "outputs": []
    },
    {
      "cell_type": "code",
      "source": [
        "# Compile the model\n",
        "model.compile(optimizer=\"adam\",\n",
        "              loss=\"sparse_categorical_crossentropy\",\n",
        "              metrics=[\"accuracy\"])"
      ],
      "metadata": {
        "id": "OBtRpWWOsKTx"
      },
      "execution_count": 11,
      "outputs": []
    },
    {
      "cell_type": "code",
      "source": [
        "# Train the model for 50 epochs with batch size of 128\n",
        "results = model.fit(X_train, y_train,\n",
        "                    batch_size=128,\n",
        "                    epochs=50,\n",
        "                    validation_data=(X_val, y_val))"
      ],
      "metadata": {
        "colab": {
          "base_uri": "https://localhost:8080/"
        },
        "id": "TeKGAZAZsMPn",
        "outputId": "f1b88e27-03fd-4dcd-ee35-e91e728273dc"
      },
      "execution_count": 12,
      "outputs": [
        {
          "output_type": "stream",
          "name": "stdout",
          "text": [
            "Epoch 1/50\n",
            "48/48 [==============================] - 12s 15ms/step - loss: 2.1596 - accuracy: 0.1864 - val_loss: 1.8583 - val_accuracy: 0.3412\n",
            "Epoch 2/50\n",
            "48/48 [==============================] - 0s 10ms/step - loss: 1.9216 - accuracy: 0.2767 - val_loss: 1.6035 - val_accuracy: 0.4252\n",
            "Epoch 3/50\n",
            "48/48 [==============================] - 0s 8ms/step - loss: 1.7555 - accuracy: 0.3505 - val_loss: 1.4515 - val_accuracy: 0.5069\n",
            "Epoch 4/50\n",
            "48/48 [==============================] - 0s 8ms/step - loss: 1.6330 - accuracy: 0.4076 - val_loss: 1.3278 - val_accuracy: 0.5458\n",
            "Epoch 5/50\n",
            "48/48 [==============================] - 0s 8ms/step - loss: 1.5022 - accuracy: 0.4553 - val_loss: 1.1893 - val_accuracy: 0.5779\n",
            "Epoch 6/50\n",
            "48/48 [==============================] - 0s 8ms/step - loss: 1.4357 - accuracy: 0.4931 - val_loss: 1.0766 - val_accuracy: 0.6511\n",
            "Epoch 7/50\n",
            "48/48 [==============================] - 0s 8ms/step - loss: 1.3332 - accuracy: 0.5185 - val_loss: 1.0161 - val_accuracy: 0.6763\n",
            "Epoch 8/50\n",
            "48/48 [==============================] - 0s 8ms/step - loss: 1.2506 - accuracy: 0.5630 - val_loss: 0.9632 - val_accuracy: 0.6947\n",
            "Epoch 9/50\n",
            "48/48 [==============================] - 0s 8ms/step - loss: 1.1921 - accuracy: 0.5856 - val_loss: 0.8604 - val_accuracy: 0.7290\n",
            "Epoch 10/50\n",
            "48/48 [==============================] - 0s 8ms/step - loss: 1.1321 - accuracy: 0.6068 - val_loss: 0.8497 - val_accuracy: 0.7336\n",
            "Epoch 11/50\n",
            "48/48 [==============================] - 0s 9ms/step - loss: 1.1098 - accuracy: 0.6216 - val_loss: 0.7880 - val_accuracy: 0.7771\n",
            "Epoch 12/50\n",
            "48/48 [==============================] - 0s 9ms/step - loss: 1.0332 - accuracy: 0.6484 - val_loss: 0.7657 - val_accuracy: 0.7794\n",
            "Epoch 13/50\n",
            "48/48 [==============================] - 1s 10ms/step - loss: 0.9739 - accuracy: 0.6649 - val_loss: 0.7431 - val_accuracy: 0.7748\n",
            "Epoch 14/50\n",
            "48/48 [==============================] - 1s 12ms/step - loss: 0.9205 - accuracy: 0.6787 - val_loss: 0.6895 - val_accuracy: 0.7878\n",
            "Epoch 15/50\n",
            "48/48 [==============================] - 1s 13ms/step - loss: 0.9135 - accuracy: 0.6934 - val_loss: 0.6121 - val_accuracy: 0.8206\n",
            "Epoch 16/50\n",
            "48/48 [==============================] - 1s 12ms/step - loss: 0.8423 - accuracy: 0.7119 - val_loss: 0.6513 - val_accuracy: 0.7992\n",
            "Epoch 17/50\n",
            "48/48 [==============================] - 1s 11ms/step - loss: 0.8307 - accuracy: 0.7188 - val_loss: 0.6110 - val_accuracy: 0.8252\n",
            "Epoch 18/50\n",
            "48/48 [==============================] - 1s 12ms/step - loss: 0.7940 - accuracy: 0.7305 - val_loss: 0.5779 - val_accuracy: 0.8305\n",
            "Epoch 19/50\n",
            "48/48 [==============================] - 1s 12ms/step - loss: 0.7711 - accuracy: 0.7389 - val_loss: 0.5758 - val_accuracy: 0.8244\n",
            "Epoch 20/50\n",
            "48/48 [==============================] - 1s 11ms/step - loss: 0.7511 - accuracy: 0.7492 - val_loss: 0.6040 - val_accuracy: 0.8206\n",
            "Epoch 21/50\n",
            "48/48 [==============================] - 1s 11ms/step - loss: 0.7303 - accuracy: 0.7559 - val_loss: 0.5652 - val_accuracy: 0.8260\n",
            "Epoch 22/50\n",
            "48/48 [==============================] - 1s 11ms/step - loss: 0.6901 - accuracy: 0.7744 - val_loss: 0.5012 - val_accuracy: 0.8412\n",
            "Epoch 23/50\n",
            "48/48 [==============================] - 0s 10ms/step - loss: 0.6596 - accuracy: 0.7796 - val_loss: 0.5168 - val_accuracy: 0.8435\n",
            "Epoch 24/50\n",
            "48/48 [==============================] - 1s 12ms/step - loss: 0.6368 - accuracy: 0.7868 - val_loss: 0.4891 - val_accuracy: 0.8565\n",
            "Epoch 25/50\n",
            "48/48 [==============================] - 1s 10ms/step - loss: 0.6047 - accuracy: 0.7996 - val_loss: 0.4892 - val_accuracy: 0.8557\n",
            "Epoch 26/50\n",
            "48/48 [==============================] - 1s 10ms/step - loss: 0.5726 - accuracy: 0.8040 - val_loss: 0.4749 - val_accuracy: 0.8611\n",
            "Epoch 27/50\n",
            "48/48 [==============================] - 0s 10ms/step - loss: 0.5825 - accuracy: 0.8042 - val_loss: 0.4927 - val_accuracy: 0.8542\n",
            "Epoch 28/50\n",
            "48/48 [==============================] - 1s 11ms/step - loss: 0.5586 - accuracy: 0.8104 - val_loss: 0.4958 - val_accuracy: 0.8504\n",
            "Epoch 29/50\n",
            "48/48 [==============================] - 1s 11ms/step - loss: 0.5332 - accuracy: 0.8225 - val_loss: 0.4689 - val_accuracy: 0.8618\n",
            "Epoch 30/50\n",
            "48/48 [==============================] - 1s 12ms/step - loss: 0.5559 - accuracy: 0.8091 - val_loss: 0.5356 - val_accuracy: 0.8366\n",
            "Epoch 31/50\n",
            "48/48 [==============================] - 0s 10ms/step - loss: 0.5093 - accuracy: 0.8225 - val_loss: 0.4777 - val_accuracy: 0.8611\n",
            "Epoch 32/50\n",
            "48/48 [==============================] - 0s 7ms/step - loss: 0.4971 - accuracy: 0.8302 - val_loss: 0.4824 - val_accuracy: 0.8672\n",
            "Epoch 33/50\n",
            "48/48 [==============================] - 0s 8ms/step - loss: 0.4716 - accuracy: 0.8370 - val_loss: 0.4686 - val_accuracy: 0.8725\n",
            "Epoch 34/50\n",
            "48/48 [==============================] - 0s 8ms/step - loss: 0.4508 - accuracy: 0.8493 - val_loss: 0.4801 - val_accuracy: 0.8550\n",
            "Epoch 35/50\n",
            "48/48 [==============================] - 0s 7ms/step - loss: 0.4638 - accuracy: 0.8444 - val_loss: 0.4668 - val_accuracy: 0.8725\n",
            "Epoch 36/50\n",
            "48/48 [==============================] - 0s 7ms/step - loss: 0.4125 - accuracy: 0.8557 - val_loss: 0.4521 - val_accuracy: 0.8710\n",
            "Epoch 37/50\n",
            "48/48 [==============================] - 0s 7ms/step - loss: 0.4189 - accuracy: 0.8545 - val_loss: 0.4579 - val_accuracy: 0.8740\n",
            "Epoch 38/50\n",
            "48/48 [==============================] - 0s 8ms/step - loss: 0.3915 - accuracy: 0.8642 - val_loss: 0.4741 - val_accuracy: 0.8710\n",
            "Epoch 39/50\n",
            "48/48 [==============================] - 0s 7ms/step - loss: 0.3934 - accuracy: 0.8658 - val_loss: 0.4529 - val_accuracy: 0.8740\n",
            "Epoch 40/50\n",
            "48/48 [==============================] - 0s 8ms/step - loss: 0.3674 - accuracy: 0.8740 - val_loss: 0.4777 - val_accuracy: 0.8679\n",
            "Epoch 41/50\n",
            "48/48 [==============================] - 0s 8ms/step - loss: 0.4023 - accuracy: 0.8596 - val_loss: 0.4738 - val_accuracy: 0.8779\n",
            "Epoch 42/50\n",
            "48/48 [==============================] - 0s 7ms/step - loss: 0.3659 - accuracy: 0.8737 - val_loss: 0.5149 - val_accuracy: 0.8580\n",
            "Epoch 43/50\n",
            "48/48 [==============================] - 0s 7ms/step - loss: 0.3345 - accuracy: 0.8824 - val_loss: 0.5188 - val_accuracy: 0.8809\n",
            "Epoch 44/50\n",
            "48/48 [==============================] - 0s 7ms/step - loss: 0.3391 - accuracy: 0.8811 - val_loss: 0.5097 - val_accuracy: 0.8695\n",
            "Epoch 45/50\n",
            "48/48 [==============================] - 0s 8ms/step - loss: 0.3289 - accuracy: 0.8837 - val_loss: 0.5272 - val_accuracy: 0.8679\n",
            "Epoch 46/50\n",
            "48/48 [==============================] - 0s 7ms/step - loss: 0.3319 - accuracy: 0.8845 - val_loss: 0.5904 - val_accuracy: 0.8641\n",
            "Epoch 47/50\n",
            "48/48 [==============================] - 0s 7ms/step - loss: 0.3340 - accuracy: 0.8861 - val_loss: 0.5386 - val_accuracy: 0.8771\n",
            "Epoch 48/50\n",
            "48/48 [==============================] - 0s 8ms/step - loss: 0.3391 - accuracy: 0.8830 - val_loss: 0.5144 - val_accuracy: 0.8748\n",
            "Epoch 49/50\n",
            "48/48 [==============================] - 0s 8ms/step - loss: 0.3085 - accuracy: 0.8951 - val_loss: 0.5041 - val_accuracy: 0.8802\n",
            "Epoch 50/50\n",
            "48/48 [==============================] - 0s 7ms/step - loss: 0.2931 - accuracy: 0.8966 - val_loss: 0.5206 - val_accuracy: 0.8817\n"
          ]
        }
      ]
    },
    {
      "cell_type": "code",
      "source": [
        "plt.figure(figsize=(10, 6))\n",
        "\n",
        "# Plot the the training loss\n",
        "plt.plot(results.history[\"loss\"], label=\"train_loss\")\n",
        "\n",
        "# Plot the the validation loss\n",
        "plt.plot(results.history[\"val_loss\"], label=\"val_loss\")\n",
        "\n",
        "\n",
        "# Name the x and y axises\n",
        "plt.ylabel(\"Loss\") \n",
        "plt.xlabel(\"Epoch#\")\n",
        "\n",
        "# Put legend table\n",
        "plt.legend()\n",
        "\n",
        "# Show the plot\n",
        "plt.show()"
      ],
      "metadata": {
        "colab": {
          "base_uri": "https://localhost:8080/",
          "height": 392
        },
        "id": "QHAH9z4zsQCG",
        "outputId": "d4123cb7-1602-417a-8d28-9b4699b3ba79"
      },
      "execution_count": 13,
      "outputs": [
        {
          "output_type": "display_data",
          "data": {
            "text/plain": [
              "<Figure size 720x432 with 1 Axes>"
            ],
            "image/png": "[encoded data removed]"
          },
          "metadata": {
            "needs_background": "light"
          }
        }
      ]
    },
    {
      "cell_type": "code",
      "source": [
        "plt.figure(figsize=(10, 6))\n",
        "\n",
        "# Plot the the training accuracy\n",
        "plt.plot(results.history[\"accuracy\"], label=\"train_accuracy\")\n",
        "\n",
        "\n",
        "# Plot the the validation accuracy\n",
        "plt.plot(results.history[\"val_accuracy\"], label=\"val_accuracy\")\n",
        "\n",
        "\n",
        "# Name the x and y axises\n",
        "plt.ylabel(\"Accuracy\") \n",
        "plt.xlabel(\"Epoch#\")\n",
        "\n",
        "# Put legend table\n",
        "plt.legend()\n",
        "\n",
        "# Show the plot\n",
        "plt.show()"
      ],
      "metadata": {
        "colab": {
          "base_uri": "https://localhost:8080/",
          "height": 388
        },
        "id": "88GOZvzlsWsw",
        "outputId": "ba09cae9-fa86-41a4-920f-52f23f90422d"
      },
      "execution_count": 14,
      "outputs": [
        {
          "output_type": "display_data",
          "data": {
            "text/plain": [
              "<Figure size 720x432 with 1 Axes>"
            ],
            "image/png": "[encoded data removed]"
          },
          "metadata": {
            "needs_background": "light"
          }
        }
      ]
    },
    {
      "cell_type": "code",
      "source": [
        "# Evaluate the performance\n",
        "model.evaluate(X_test, y_test)"
      ],
      "metadata": {
        "colab": {
          "base_uri": "https://localhost:8080/"
        },
        "id": "cXBKaDMfsY8x",
        "outputId": "8166b2ec-96b6-4a4c-c44e-e57213c43329"
      },
      "execution_count": 15,
      "outputs": [
        {
          "output_type": "stream",
          "name": "stdout",
          "text": [
            "41/41 [==============================] - 0s 3ms/step - loss: 0.6408 - accuracy: 0.8603\n"
          ]
        },
        {
          "output_type": "execute_result",
          "data": {
            "text/plain": [
              "[0.6408146023750305, 0.8603053689002991]"
            ]
          },
          "metadata": {},
          "execution_count": 15
        }
      ]
    },
    {
      "cell_type": "code",
      "source": [
        "# Make prediction on the reshaped sample\n",
        "prediction_result = model.predict(X_test[100].reshape(1, 32, 32, 1))\n",
        "\n",
        "# Print the prediction result\n",
        "prediction_result"
      ],
      "metadata": {
        "colab": {
          "base_uri": "https://localhost:8080/"
        },
        "id": "nN6FrLwOsanx",
        "outputId": "b9dfbe2a-4545-4328-a978-9f0547a26d38"
      },
      "execution_count": 16,
      "outputs": [
        {
          "output_type": "execute_result",
          "data": {
            "text/plain": [
              "array([[3.2403047e-12, 3.5748384e-17, 6.6496271e-15, 3.6009289e-15,\n",
              "        1.2372520e-05, 1.2345929e-09, 1.0395856e-13, 9.9998760e-01,\n",
              "        1.5944068e-16, 4.7108148e-15]], dtype=float32)"
            ]
          },
          "metadata": {},
          "execution_count": 16
        }
      ]
    },
    {
      "cell_type": "code",
      "source": [
        "# Find the predicted class\n",
        "predicted_class = prediction_result.argmax()\n",
        "\n",
        "# Find the prediction probability\n",
        "predicted_probability = prediction_result.max()"
      ],
      "metadata": {
        "id": "avS-0t07sc69"
      },
      "execution_count": 17,
      "outputs": []
    },
    {
      "cell_type": "code",
      "source": [
        "plt.imshow(X_test[100])\n",
        "plt.show()\n",
        "\n",
        "print(X_test[100].shape)\n",
        "\n",
        "# Print the results\n",
        "print(f\"This image belongs to class {predicted_class} with {predicted_probability} probability %\")\n",
        "print(f\"The actual class of the selected image is: {y_test[100]}\")"
      ],
      "metadata": {
        "colab": {
          "base_uri": "https://localhost:8080/",
          "height": 318
        },
        "id": "kvWSBJm6sdsc",
        "outputId": "4d3a5818-ff39-4a0e-fd1d-986a06c234cd"
      },
      "execution_count": 18,
      "outputs": [
        {
          "output_type": "display_data",
          "data": {
            "text/plain": [
              "<Figure size 432x288 with 1 Axes>"
            ],
            "image/png": "[encoded data removed]"
          },
          "metadata": {
            "needs_background": "light"
          }
        },
        {
          "output_type": "stream",
          "name": "stdout",
          "text": [
            "(32, 32)\n",
            "This image belongs to class 7 with 0.9999876022338867 probability %\n",
            "The actual class of the selected image is: [7]\n"
          ]
        }
      ]
    }
  ]
}